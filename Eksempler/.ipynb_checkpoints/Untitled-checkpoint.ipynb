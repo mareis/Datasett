{
 "cells": [
  {
   "cell_type": "code",
   "execution_count": 4,
   "id": "4d3d28ee-5a72-48ce-b7c2-56409db50ff7",
   "metadata": {},
   "outputs": [],
   "source": [
    "import math\n",
    "def formel(x):\n",
    "    return 1/3 * x**3  + 1/2 * x**2 + 1/6*x\n",
    "\n",
    "for x in range(1, 100):\n",
    "    if math.sqrt(formel(x))==0:\n",
    "        print(x)\n",
    "    \n"
   ]
  },
  {
   "cell_type": "code",
   "execution_count": null,
   "id": "f9ca72ac-f32f-4460-a0ab-516f8418030b",
   "metadata": {},
   "outputs": [],
   "source": []
  }
 ],
 "metadata": {
  "kernelspec": {
   "display_name": "Python 3 (ipykernel)",
   "language": "python",
   "name": "python3"
  },
  "language_info": {
   "codemirror_mode": {
    "name": "ipython",
    "version": 3
   },
   "file_extension": ".py",
   "mimetype": "text/x-python",
   "name": "python",
   "nbconvert_exporter": "python",
   "pygments_lexer": "ipython3",
   "version": "3.8.12"
  }
 },
 "nbformat": 4,
 "nbformat_minor": 5
}

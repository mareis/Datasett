{
 "cells": [
  {
   "cell_type": "markdown",
   "id": "45e14eb2-3c7c-4c4a-9616-74d0a01ff07c",
   "metadata": {
    "id": "15S9NWLbWSLv",
    "tags": []
   },
   "source": [
    "---\n",
    "## <span>&#128664;</span> Bil fra A til B\n",
    "\n",
    "Tenk deg en bil som kjører fra A til B. Når bilen starter ved punktet, A, øker den farten (akselererer) for så å redusere farten igjen mot punktet B."
   ]
  },
  {
   "cell_type": "markdown",
   "id": "fc7df783-589c-4d87-bea0-88d2104080a4",
   "metadata": {
    "id": "1UIipvNRf-b6"
   },
   "source": [
    "<img src=\"https://j.gifs.com/oZRWBB.gif\">"
   ]
  },
  {
   "cell_type": "code",
   "execution_count": 6,
   "id": "0be4e2c0-2ee6-4a4e-ad8c-2996030138c2",
   "metadata": {
    "colab": {
     "base_uri": "https://localhost:8080/",
     "height": 204
    },
    "id": "K9G4uZnGBEXN",
    "outputId": "53b828a9-1c3d-4e8c-ab55-11802cb28477"
   },
   "outputs": [
    {
     "data": {
      "text/html": [
       "<div>\n",
       "<style scoped>\n",
       "    .dataframe tbody tr th:only-of-type {\n",
       "        vertical-align: middle;\n",
       "    }\n",
       "\n",
       "    .dataframe tbody tr th {\n",
       "        vertical-align: top;\n",
       "    }\n",
       "\n",
       "    .dataframe thead th {\n",
       "        text-align: right;\n",
       "    }\n",
       "</style>\n",
       "<table border=\"1\" class=\"dataframe\">\n",
       "  <thead>\n",
       "    <tr style=\"text-align: right;\">\n",
       "      <th></th>\n",
       "      <th>tid</th>\n",
       "      <th>hastighet</th>\n",
       "      <th>strekning</th>\n",
       "    </tr>\n",
       "  </thead>\n",
       "  <tbody>\n",
       "    <tr>\n",
       "      <th>0</th>\n",
       "      <td>0.00</td>\n",
       "      <td>0.00</td>\n",
       "      <td>0.00</td>\n",
       "    </tr>\n",
       "    <tr>\n",
       "      <th>1</th>\n",
       "      <td>0.06</td>\n",
       "      <td>5.40</td>\n",
       "      <td>0.57</td>\n",
       "    </tr>\n",
       "    <tr>\n",
       "      <th>2</th>\n",
       "      <td>0.11</td>\n",
       "      <td>23.78</td>\n",
       "      <td>1.91</td>\n",
       "    </tr>\n",
       "    <tr>\n",
       "      <th>3</th>\n",
       "      <td>0.16</td>\n",
       "      <td>21.74</td>\n",
       "      <td>5.15</td>\n",
       "    </tr>\n",
       "    <tr>\n",
       "      <th>4</th>\n",
       "      <td>0.22</td>\n",
       "      <td>23.81</td>\n",
       "      <td>8.77</td>\n",
       "    </tr>\n",
       "    <tr>\n",
       "      <th>...</th>\n",
       "      <td>...</td>\n",
       "      <td>...</td>\n",
       "      <td>...</td>\n",
       "    </tr>\n",
       "    <tr>\n",
       "      <th>183</th>\n",
       "      <td>9.76</td>\n",
       "      <td>8.79</td>\n",
       "      <td>2373.94</td>\n",
       "    </tr>\n",
       "    <tr>\n",
       "      <th>184</th>\n",
       "      <td>9.82</td>\n",
       "      <td>15.82</td>\n",
       "      <td>2374.89</td>\n",
       "    </tr>\n",
       "    <tr>\n",
       "      <th>185</th>\n",
       "      <td>9.87</td>\n",
       "      <td>4.52</td>\n",
       "      <td>2375.27</td>\n",
       "    </tr>\n",
       "    <tr>\n",
       "      <th>186</th>\n",
       "      <td>9.92</td>\n",
       "      <td>0.00</td>\n",
       "      <td>2375.47</td>\n",
       "    </tr>\n",
       "    <tr>\n",
       "      <th>187</th>\n",
       "      <td>9.98</td>\n",
       "      <td>0.00</td>\n",
       "      <td>2375.47</td>\n",
       "    </tr>\n",
       "  </tbody>\n",
       "</table>\n",
       "<p>188 rows × 3 columns</p>\n",
       "</div>"
      ],
      "text/plain": [
       "      tid  hastighet  strekning\n",
       "0    0.00       0.00       0.00\n",
       "1    0.06       5.40       0.57\n",
       "2    0.11      23.78       1.91\n",
       "3    0.16      21.74       5.15\n",
       "4    0.22      23.81       8.77\n",
       "..    ...        ...        ...\n",
       "183  9.76       8.79    2373.94\n",
       "184  9.82      15.82    2374.89\n",
       "185  9.87       4.52    2375.27\n",
       "186  9.92       0.00    2375.47\n",
       "187  9.98       0.00    2375.47\n",
       "\n",
       "[188 rows x 3 columns]"
      ]
     },
     "execution_count": 6,
     "metadata": {},
     "output_type": "execute_result"
    }
   ],
   "source": [
    "import pandas as pd\n",
    "\n",
    "df = pd.read_csv('https://raw.githubusercontent.com/mareis/Datasett/main/Egne/bil_A_til_B.csv', sep=';')\n",
    "df"
   ]
  },
  {
   "cell_type": "markdown",
   "id": "587f860d-1cdb-4899-ba6b-fdf149d9ed6e",
   "metadata": {},
   "source": [
    "Datasettet vi har inneholder både tilbakelagt strekning og hastigheten til bilen."
   ]
  },
  {
   "cell_type": "code",
   "execution_count": 7,
   "id": "4c4dc444-d14d-4c0d-a865-008b62ce4a4f",
   "metadata": {},
   "outputs": [],
   "source": [
    "tid = df['tid']\n",
    "strekning = df['strekning']\n",
    "hastighet = df['hastighet']"
   ]
  },
  {
   "cell_type": "code",
   "execution_count": 9,
   "id": "c32422c5-6637-4e7b-b639-2af59a34fcd7",
   "metadata": {},
   "outputs": [
    {
     "data": {
      "image/png": "[encoded data removed]",
      "text/plain": [
       "<Figure size 576x288 with 1 Axes>"
      ]
     },
     "metadata": {
      "needs_background": "light"
     },
     "output_type": "display_data"
    }
   ],
   "source": [
    "import matplotlib.pyplot as plt\n",
    "\n",
    "plt.figure(figsize=(8,4))\n",
    "plt.plot(tid, strekning, '.')\n",
    "\n",
    "plt.title(\"Strekning\")\n",
    "plt.xlabel('Tid (s)')\n",
    "plt.ylabel('Strekning (m)')\n",
    "plt.show()"
   ]
  },
  {
   "cell_type": "code",
   "execution_count": 11,
   "id": "8e636680-e9eb-4d1d-bcfc-2feb9a359ac1",
   "metadata": {},
   "outputs": [
    {
     "data": {
      "image/png": "[encoded data removed]",
      "text/plain": [
       "<Figure size 576x288 with 1 Axes>"
      ]
     },
     "metadata": {
      "needs_background": "light"
     },
     "output_type": "display_data"
    }
   ],
   "source": [
    "plt.figure(figsize=(8,4))\n",
    "plt.plot(tid, hastighet, '.')\n",
    "\n",
    "plt.title(\"Hastighet\")\n",
    "plt.xlabel('Tid ($s$)')\n",
    "plt.ylabel('Hastighet (m/s)')\n",
    "plt.show()"
   ]
  },
  {
   "cell_type": "code",
   "execution_count": null,
   "id": "e9fbabe0-9c32-43f5-ba58-baa212a4c852",
   "metadata": {},
   "outputs": [],
   "source": []
  }
 ],
 "metadata": {
  "kernelspec": {
   "display_name": "Python 3 (ipykernel)",
   "language": "python",
   "name": "python3"
  },
  "language_info": {
   "codemirror_mode": {
    "name": "ipython",
    "version": 3
   },
   "file_extension": ".py",
   "mimetype": "text/x-python",
   "name": "python",
   "nbconvert_exporter": "python",
   "pygments_lexer": "ipython3",
   "version": "3.8.12"
  }
 },
 "nbformat": 4,
 "nbformat_minor": 5
}

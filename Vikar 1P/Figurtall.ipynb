{
 "cells": [
  {
   "cell_type": "markdown",
   "id": "a9cad325-84e5-4e5f-b52c-be7c0f58fca1",
   "metadata": {},
   "source": [
    "# Figurtall"
   ]
  },
  {
   "cell_type": "markdown",
   "id": "31fac386-64bd-494a-a310-c1d2b2a29e3a",
   "metadata": {},
   "source": [
    "## Eksempel\n",
    "\n",
    "![](https://docplayer.me/docs-images/39/19208652/images/6-0.png)"
   ]
  },
  {
   "cell_type": "markdown",
   "id": "2cdbe79c-102c-446a-b560-a26c9e50d345",
   "metadata": {},
   "source": [
    "**a)** Hvor mange klosser trenger Snorre for å lage 4. og for å lage 5. figur?"
   ]
  },
  {
   "cell_type": "code",
   "execution_count": 3,
   "id": "036c38d0-9e67-4891-9f89-5c907834abae",
   "metadata": {},
   "outputs": [
    {
     "name": "stdout",
     "output_type": "stream",
     "text": [
      "4. figur: 26\n",
      "5. figur: 37\n"
     ]
    }
   ],
   "source": [
    "print(\"4. figur:\", 5 + 5 + 4**2)\n",
    "print(\"5. figur:\", 6 + 6 + 5**2)"
   ]
  },
  {
   "cell_type": "markdown",
   "id": "44e6321b-c338-478e-a87c-1b188f227c9d",
   "metadata": {
    "tags": []
   },
   "source": [
    "**b)** Bestem et uttrykk for antall klosser i figur 𝐹 uttrykt ved 𝑛."
   ]
  },
  {
   "cell_type": "markdown",
   "id": "839b9601-4e48-477d-9b3c-5f5c043c94be",
   "metadata": {},
   "source": [
    "$F_n = 2\\cdot (n+1)+n^2$"
   ]
  },
  {
   "cell_type": "code",
   "execution_count": 4,
   "id": "439745ce-2588-4b1d-bf52-e555ff792ee0",
   "metadata": {},
   "outputs": [],
   "source": [
    "# 2*(n+1) + n**2"
   ]
  },
  {
   "cell_type": "markdown",
   "id": "64cee2fa-97c2-4b3c-a486-cc1fc77fe1e0",
   "metadata": {},
   "source": [
    "**c)** Lag et program som skriver ut antall klosser i de 10 første figurene"
   ]
  },
  {
   "cell_type": "code",
   "execution_count": 8,
   "id": "5f5940d7-b289-4194-8d78-2c0fbbafcfb4",
   "metadata": {},
   "outputs": [
    {
     "name": "stdout",
     "output_type": "stream",
     "text": [
      "Figur 1 = 5\n",
      "Figur 2 = 10\n",
      "Figur 3 = 17\n",
      "Figur 4 = 26\n",
      "Figur 5 = 37\n",
      "Figur 6 = 50\n",
      "Figur 7 = 65\n",
      "Figur 8 = 82\n",
      "Figur 9 = 101\n",
      "Figur 10 = 122\n"
     ]
    }
   ],
   "source": [
    "for n in range(1, 11):\n",
    "    F = 2*(n+1) + n**2\n",
    "    print(\"Figur\", n, \"=\", F)"
   ]
  },
  {
   "cell_type": "markdown",
   "id": "aa4a5762-3ecf-4159-8afd-de907afaba78",
   "metadata": {},
   "source": [
    "**d)** Hva blir summen av antall klosser i de 10 første figurene?"
   ]
  },
  {
   "cell_type": "code",
   "execution_count": 10,
   "id": "fd036792-0a52-49f8-96e8-dedd445a0d77",
   "metadata": {},
   "outputs": [
    {
     "name": "stdout",
     "output_type": "stream",
     "text": [
      "Summwn av klosswr i de 10 første figurene: 515\n"
     ]
    }
   ],
   "source": [
    "sum = 0\n",
    "for n in range(1, 11):\n",
    "    F = 2*(n+1) + n**2\n",
    "    sum = sum + F\n",
    "    \n",
    "print(\"Summwn av klosswr i de 10 første figurene:\", sum)"
   ]
  },
  {
   "cell_type": "markdown",
   "id": "9c5fddc6-dc16-4a67-a99a-da6027c6ff29",
   "metadata": {},
   "source": [
    "## Oppgave 1\n",
    "\n",
    "![](https://www.matematika.no/wp-content/ql-cache/quicklatex.com-a5d4bf1340781a5b9ec85bfd4e5b3ccb_l3.svg)"
   ]
  },
  {
   "cell_type": "markdown",
   "id": "f0c276ab-ea2f-43d4-bda2-fb06d11b22a3",
   "metadata": {},
   "source": [
    "**a)** Hvor mange klosser trengs for å lage 4. og for å lage 5. figur?"
   ]
  },
  {
   "cell_type": "code",
   "execution_count": null,
   "id": "6dd88edc-7e28-4c0a-b94d-d13aa3d10597",
   "metadata": {},
   "outputs": [],
   "source": []
  },
  {
   "cell_type": "markdown",
   "id": "62870776-de2d-476c-bb00-c84c099b706f",
   "metadata": {
    "tags": []
   },
   "source": [
    "**b)** Bestem et uttrykk for antall klosser i figur 𝐹 uttrykt ved 𝑛."
   ]
  },
  {
   "cell_type": "code",
   "execution_count": null,
   "id": "a77c06f7-7012-45ac-b56b-9c00e4a290d0",
   "metadata": {},
   "outputs": [],
   "source": []
  },
  {
   "cell_type": "markdown",
   "id": "fc4ab88c-02ff-452a-9816-4a3b7803d110",
   "metadata": {},
   "source": [
    "**c)** Lag et program som skriver ut antall klosser i de 10 første figurene"
   ]
  },
  {
   "cell_type": "code",
   "execution_count": null,
   "id": "96990be8-027b-4aef-9cd9-28f1b76f4b8e",
   "metadata": {},
   "outputs": [],
   "source": []
  },
  {
   "cell_type": "markdown",
   "id": "542c3a30-96be-4bea-933b-bc35a97da32a",
   "metadata": {},
   "source": [
    "**d)** Hva blir summen av antall klosser i de 10 første figurene?"
   ]
  },
  {
   "cell_type": "code",
   "execution_count": null,
   "id": "cc904e25-bd41-4628-9859-aca183d1a8d8",
   "metadata": {},
   "outputs": [],
   "source": []
  },
  {
   "cell_type": "markdown",
   "id": "b93afd55-327c-42cc-a522-6c240f19c586",
   "metadata": {},
   "source": [
    "## Oppgave 2\n",
    "\n",
    "![](data:image/png;base64,iVBORw0KGgoAAAANSUhEUgAAAVQAAACUCAMAAAD70yGHAAAAsVBMVEX///8AAP/x8f/l5f/u7v82Nv8nJ/8UFP/d3f9dXf/Nzf/4+P/29v/Y2P9VVf+oqP+urv+Cgv99ff+YmP+/v/9tbf9FRf+3t/8iIv+Skv9PT/84OP89Pf+ysv/p6f/a2v+2trbJycng4P/29vZZWf9kZP+srP/Ozs6UlJSmpqZ1dXXa2trr6+uKiv91df+iov9KSv9xcf+Hh/+Wlv9gYGCLi4tDQ0MoKCiOjo5oaGiysrJbItO+AAAD70lEQVR4nO2d2VLbQBREryXAixQbCIshYFtsNkiswUnI/39YxAMJKXqcjJiWDPR5vFTd1hxrRqqasTET1Yl2EVtNX9bbptdCtJu+rLcNljps+rLeNpJKQFIJSCoBSSUgqQQklYCkEpBUApJKQFIJSCoBSSUgqQQklYCkEpBUApJKQFIJaI+KwLi/D+g2fVmiaVZ6iNi/UQc2Sm0E6yNLYf0o/Agb4BIuYaeJb59kBzYa2CasX9k1rPdTxiDrZg+O7dZfah82WrcNWN+0Aax3JfUZkvoMSSUgqQQklYCkEpBUApJKQFIJSCoBSSUgqQQklYCkEpBUApJKQFIJSCoBSSWApW77S92Hjc4ce1QuqSfvQuphv/uS/mf/RncnoNF+zwYwYGBb+6B+cun9aS4lafKStMLQQJsS1x8W1EMRdwDjoK1WxqgecLKNYHBiEap3IkvQBXVGwa4nPmgDWp8qtIpuWqjVlt3CeoVp7iA5gQHrdgfrG3YG6/4HDlzEq3DRriQVn2nYsm1YDyh12Z7+8RdJlVSApEqqF5L6hKRKKkRSJdULSX1CUiUVIqmS6oWkPiGpkgqRVEn1QlKfkFRJhSyf1PewneLa929K6qi/Chh2KrRKu6jVWs821lB9EGoIlmzD4F37CoP37BDVV6/CbVKnK4hqrSJEOWhHPRjOAK96BadHMSDcVvcjIxQRJxbBesh9f6/gyBJY97+T4tbaS4Y3Ia2m/SHIaPVssw3q7YDT/xQG79oeDC6nP5Thf4hrDNfm1Qo/A+Fk2Z7+/AfVB5TKf6WSVEn1QlIl1QtJlVRJXYikSqoXkiqpkroQSZVULyRVUiV1IZIqqV5IqqRK6kIak3oE+6yFlJoeeEm9DhbsOEzx+IVfxOMXfqFU/z1quL0fcvO9vFUdRwgSWA/4/XrX2QVnMKy/ix+meDvswjv7JmTECEYM+f97IILB7Wq/+ODDIQw+CBmBl+d2leNXfmCplQ7T+VGD1FhSJfX1SCoBSSUgqQQklYCkEpBUApJKQFIJSCoBSSUgqQQklYCkEpBUApJKQFIJSCoBLHUnZMTHkxp9QgTd6UxgxLiGfz3QWLAQQgghhBBCCCGEEEIIIT4aWV5j2KTOMBfTjJ0wy2bsiIbCXEx+nh9zE47vuf3/oqgzzMkFWakdz+7pc+EP82/T+sJcTL5P6BHnlhfskN9hE8tq/AwxxdyyCTdintm8tttnPs2LeW0foYNyRc3JF3FR2KQ2qQ+5FY0/qX5klj9wX0IuyklZ24x8sOK8YD8m/kU54sd1iEdeLqnlKwYx4XlYVq7fs1mzUovypa44nzAj8mmNQ+S/c/8HefbKEf8CnuGhPU6M508AAAAASUVORK5CYII=)"
   ]
  },
  {
   "cell_type": "markdown",
   "id": "c3265ff3-e125-42da-be91-018aff5fc154",
   "metadata": {},
   "source": [
    "**a)** Hvor mange klosser trengs for å lage 4. og for å lage 5. figur?"
   ]
  },
  {
   "cell_type": "code",
   "execution_count": null,
   "id": "face7f9d-601c-45bd-8e08-041cc0a58c14",
   "metadata": {},
   "outputs": [],
   "source": []
  },
  {
   "cell_type": "markdown",
   "id": "50b0f43c-c7d3-41c4-98dc-17e12c7975c0",
   "metadata": {
    "tags": []
   },
   "source": [
    "**b)** Bestem et uttrykk for antall klosser i figur 𝐹 uttrykt ved 𝑛."
   ]
  },
  {
   "cell_type": "code",
   "execution_count": null,
   "id": "1d3661d9-201c-428a-9685-12fb4453c771",
   "metadata": {},
   "outputs": [],
   "source": []
  },
  {
   "cell_type": "markdown",
   "id": "eb557306-1444-44eb-9e9c-447cb4d879f8",
   "metadata": {},
   "source": [
    "**c)** Lag et program som skriver ut antall klosser i de 8 første figurene"
   ]
  },
  {
   "cell_type": "code",
   "execution_count": null,
   "id": "68dd7e01-c7cf-44e2-8a10-dbae710b68e7",
   "metadata": {},
   "outputs": [],
   "source": []
  },
  {
   "cell_type": "markdown",
   "id": "83b90230-3670-48fe-8698-3e611a5ee066",
   "metadata": {},
   "source": [
    "**d)** Hva blir summen av antall klosser i de 8 første figurene?"
   ]
  },
  {
   "cell_type": "code",
   "execution_count": null,
   "id": "f23f4cd4-9d4c-4ebc-9088-3ae1e4bc1571",
   "metadata": {},
   "outputs": [],
   "source": []
  },
  {
   "cell_type": "markdown",
   "id": "d6e56a3b-a632-4ebb-a67f-b262f05e9f71",
   "metadata": {
    "tags": []
   },
   "source": [
    "## Oppgave 3\n",
    "\n",
    "![](https://i.ytimg.com/vi/jN1Mqlrih_s/maxresdefault.jpg)"
   ]
  },
  {
   "cell_type": "markdown",
   "id": "56772031-d9da-4f5b-8c24-74122c77872f",
   "metadata": {},
   "source": [
    "**a)** Hvor mange klosser trengs for å lage 6. og for å lage 7. figur?"
   ]
  },
  {
   "cell_type": "code",
   "execution_count": null,
   "id": "bd29891b-f886-406e-9e38-e4390c6b1bfd",
   "metadata": {},
   "outputs": [],
   "source": []
  },
  {
   "cell_type": "markdown",
   "id": "39639c35-e85f-4f44-b7ad-92a92159e7ac",
   "metadata": {
    "tags": []
   },
   "source": [
    "**b)** Bestem et uttrykk for antall klosser i figur 𝐹 uttrykt ved 𝑛."
   ]
  },
  {
   "cell_type": "code",
   "execution_count": null,
   "id": "e5d98831-0a5d-426e-8421-4bc387433739",
   "metadata": {},
   "outputs": [],
   "source": []
  },
  {
   "cell_type": "markdown",
   "id": "4a8fa515-9ae5-485c-b979-f82939e3bbc3",
   "metadata": {},
   "source": [
    "**c)** Lag et program som skriver ut antall klosser i de 11 første figurene"
   ]
  },
  {
   "cell_type": "code",
   "execution_count": null,
   "id": "e9be687a-03f2-4ab7-afef-319772628990",
   "metadata": {},
   "outputs": [],
   "source": []
  },
  {
   "cell_type": "markdown",
   "id": "8474db9c-1442-45ab-b6f7-24c9b9deb685",
   "metadata": {},
   "source": [
    "**d)** Hva blir summen av antall klosser i de 11 første figurene?"
   ]
  },
  {
   "cell_type": "code",
   "execution_count": null,
   "id": "1733bf55-2b21-4a3d-8642-8ebb3ade0e5b",
   "metadata": {},
   "outputs": [],
   "source": []
  },
  {
   "cell_type": "markdown",
   "id": "78a1f775-83c9-4b62-a2b2-7a90833d253b",
   "metadata": {},
   "source": [
    "## Oppgave 4\n",
    "\n",
    "![](https://www.matematika.no/wp-content/ql-cache/quicklatex.com-6a0f4304fef514dbe37a224b66fe29c8_l3.svg)"
   ]
  },
  {
   "cell_type": "markdown",
   "id": "c60b5acd-060c-4ecc-ade5-a150519a5d56",
   "metadata": {},
   "source": [
    "**a)** Hvor mange klosser trengs for å lage 4. og for å lage 5. figur?"
   ]
  },
  {
   "cell_type": "code",
   "execution_count": null,
   "id": "68c243ab-a7eb-4933-8f69-b18d362328d1",
   "metadata": {},
   "outputs": [],
   "source": []
  },
  {
   "cell_type": "markdown",
   "id": "31942eef-67f7-475a-aaaf-f43e3066aa9d",
   "metadata": {
    "tags": []
   },
   "source": [
    "**b)** Bestem et uttrykk for antall klosser i figur 𝐹 uttrykt ved 𝑛."
   ]
  },
  {
   "cell_type": "code",
   "execution_count": null,
   "id": "17450408-7a3a-4bb7-ac7c-b8d4cd9eb5b6",
   "metadata": {},
   "outputs": [],
   "source": []
  },
  {
   "cell_type": "markdown",
   "id": "5b53be12-3396-4b80-90b2-9d6627118ae9",
   "metadata": {},
   "source": [
    "**c)** Lag et program som skriver ut antall klosser i de 12 første figurene"
   ]
  },
  {
   "cell_type": "code",
   "execution_count": null,
   "id": "ddd48d33-e35b-41b7-ac45-b790ba62f1bf",
   "metadata": {},
   "outputs": [],
   "source": []
  },
  {
   "cell_type": "markdown",
   "id": "838b1c8e-55ed-48b5-84a9-20e7ce32532b",
   "metadata": {},
   "source": [
    "**d)** Hva blir summen av antall klosser i de 12 første figurene?"
   ]
  },
  {
   "cell_type": "code",
   "execution_count": null,
   "id": "6d09647e-ad50-41f0-b4ea-1a213bb6715f",
   "metadata": {},
   "outputs": [],
   "source": []
  },
  {
   "cell_type": "markdown",
   "id": "4525ade6-54e1-4728-bfea-e0b46299fedf",
   "metadata": {},
   "source": [
    "## Oppgave 5\n",
    "![](https://www.matematika.no/wp-content/ql-cache/quicklatex.com-018843eb356b2812666170081ef1f9a2_l3.svg)"
   ]
  },
  {
   "cell_type": "markdown",
   "id": "7b092d47-87d6-4404-b08e-960da1b83a3c",
   "metadata": {},
   "source": [
    "**a)** Hvor mange klosser trengs for å lage 4. og for å lage 5. figur?"
   ]
  },
  {
   "cell_type": "code",
   "execution_count": null,
   "id": "cc82978d-7695-4e08-9456-682fc448702d",
   "metadata": {},
   "outputs": [],
   "source": []
  },
  {
   "cell_type": "markdown",
   "id": "a1b606e8-0aa5-42b3-bd59-715b28186594",
   "metadata": {
    "tags": []
   },
   "source": [
    "**b)** Bestem et uttrykk for antall klosser i figur 𝐹 uttrykt ved 𝑛."
   ]
  },
  {
   "cell_type": "code",
   "execution_count": null,
   "id": "de1fa69d-f371-48aa-8363-f7af8c209475",
   "metadata": {},
   "outputs": [],
   "source": []
  },
  {
   "cell_type": "markdown",
   "id": "08edc7c9-07f4-4410-a693-7b0820b2309d",
   "metadata": {},
   "source": [
    "**c)** Lag et program som skriver ut antall klosser i de 8 første figurene"
   ]
  },
  {
   "cell_type": "code",
   "execution_count": null,
   "id": "be715e71-79a4-4781-8bb7-3c6b57ac8371",
   "metadata": {},
   "outputs": [],
   "source": []
  },
  {
   "cell_type": "markdown",
   "id": "ee371b15-7caa-4467-b187-1073b4f6a108",
   "metadata": {},
   "source": [
    "**d)** Hva blir summen av antall klosser i de 8 første figurene?"
   ]
  },
  {
   "cell_type": "code",
   "execution_count": null,
   "id": "e28394d9-9954-4b89-a404-81a8441de871",
   "metadata": {},
   "outputs": [],
   "source": []
  },
  {
   "cell_type": "markdown",
   "id": "11c1593d-a988-4ac8-9bca-c23fe337ecbd",
   "metadata": {
    "tags": []
   },
   "source": [
    "## Oppgave 6\n",
    "\n",
    "![](https://www.matematika.no/wp-content/ql-cache/quicklatex.com-9702e6eb9ac27f8cb3ccc032be6442d7_l3.svg)"
   ]
  },
  {
   "cell_type": "markdown",
   "id": "8064a2cd-16f1-4312-9a5d-ca10b0c60a74",
   "metadata": {},
   "source": [
    "**a)** Hvor mange klosser trengs for å lage 4. og for å lage 5. figur?"
   ]
  },
  {
   "cell_type": "code",
   "execution_count": null,
   "id": "fcd9c013-a0f4-49af-8c40-4c8b30b1ef10",
   "metadata": {},
   "outputs": [],
   "source": []
  },
  {
   "cell_type": "markdown",
   "id": "41665fb3-7ddf-497b-8c82-34104a619431",
   "metadata": {
    "tags": []
   },
   "source": [
    "**b)** Bestem et uttrykk for antall klosser i figur 𝐹 uttrykt ved 𝑛."
   ]
  },
  {
   "cell_type": "code",
   "execution_count": null,
   "id": "01039af8-47fd-4b7b-af16-03da4eea9ec8",
   "metadata": {},
   "outputs": [],
   "source": []
  },
  {
   "cell_type": "markdown",
   "id": "3b717460-cce1-4285-94c8-ee4b6392813e",
   "metadata": {},
   "source": [
    "**c)** Lag et program som skriver ut antall klosser i de 13 første figurene"
   ]
  },
  {
   "cell_type": "code",
   "execution_count": null,
   "id": "594c7926-3a79-46d9-bafd-ce173ff942a5",
   "metadata": {},
   "outputs": [],
   "source": []
  },
  {
   "cell_type": "markdown",
   "id": "9722f6d6-9ff5-4dc7-b8ad-ff7059b4d21d",
   "metadata": {},
   "source": [
    "**d)** Hva blir summen av antall klosser i de 13 første figurene?"
   ]
  },
  {
   "cell_type": "code",
   "execution_count": null,
   "id": "d8b3940e-c22a-49f1-904e-dccbf00c8c28",
   "metadata": {},
   "outputs": [],
   "source": []
  },
  {
   "cell_type": "markdown",
   "id": "bb09be26-616f-4cad-bb2c-19770c395a18",
   "metadata": {},
   "source": [
    "## Oppgave 7\n",
    "\n",
    "![](https://docplayer.me/docs-images/74/70064429/images/50-0.jpg)"
   ]
  },
  {
   "cell_type": "markdown",
   "id": "da89c6fa-dc29-4467-81ce-3327d08e9e4b",
   "metadata": {},
   "source": [
    "**a)** Hvor mange klosser trengs for å lage 5. figur?"
   ]
  },
  {
   "cell_type": "code",
   "execution_count": null,
   "id": "39d0108b-c222-4c38-a8c1-0de0b9b44db0",
   "metadata": {},
   "outputs": [],
   "source": []
  },
  {
   "cell_type": "markdown",
   "id": "cb08a362-6e0e-46ed-b8c8-1994bf2602e3",
   "metadata": {
    "tags": []
   },
   "source": [
    "**b)** Bestem et uttrykk for antall klosser i figur 𝐹 uttrykt ved 𝑛."
   ]
  },
  {
   "cell_type": "code",
   "execution_count": null,
   "id": "6174aca0-d579-4dd5-b928-9161b74c28e2",
   "metadata": {},
   "outputs": [],
   "source": []
  },
  {
   "cell_type": "markdown",
   "id": "3c39aeb6-3d42-4da5-ac41-9005ee8b2b45",
   "metadata": {},
   "source": [
    "**c)** Lag et program som skriver ut antall klosser i de 9 første figurene"
   ]
  },
  {
   "cell_type": "code",
   "execution_count": null,
   "id": "fbb75bc5-65b6-4aa1-908c-2e41861176b2",
   "metadata": {},
   "outputs": [],
   "source": []
  },
  {
   "cell_type": "markdown",
   "id": "84cea341-3207-4cc3-820f-ab8188b404c3",
   "metadata": {},
   "source": [
    "**d)** Hva blir summen av antall klosser i de 9 første figurene?"
   ]
  },
  {
   "cell_type": "code",
   "execution_count": null,
   "id": "95505b43-a5c5-4ce4-a4f7-7e801a916e0d",
   "metadata": {},
   "outputs": [],
   "source": []
  },
  {
   "cell_type": "markdown",
   "id": "bf5d7640-5b63-4f08-8a64-9bbc2c007047",
   "metadata": {
    "tags": []
   },
   "source": [
    "## Oppgave 8\n",
    "\n",
    "![](data:image/png;base64,iVBORw0KGgoAAAANSUhEUgAAAW4AAACKCAMAAAC93lCdAAAA9lBMVEX////p6f+pqf+Ghv/09P+Cgv+Li/+fn//Bwf/8/P+hof+np/+YmP/T0//29v/l5f/Pz/+bm//X1//c3P+kpP+9vf+QkP/Gxv/v7/+wsP+MjP+srP9/f/98fP++vv+Wlv9eXv/c3Nx1df9vb//h4f9nZ/////vU1NO2tv9gYP/Jyf9SUv94eP/08Orx9/yGXFS5z9W1km2VsMb///JcXXWPblfe9v//8N5WZ3vl5+doQVTY6On15M1ygJTMy8/l7fXhyKlliKy9mn2oyuN9jZ5+o8bn1cKKjY+fr8B9h5CdkY7NuKm/0ODr49haXF6wusrSuKSYp66A91pnAAAEBklEQVR4nO3ce1PaQBQF8EDkEQwoIAFBREVFrdhW7cPWWmsftlr7+P5fpjrNON2zjiF09ybA+f3XO8nd5WAWyyY6DhEREREREREREdGkyvZ8VRv+7S8ZGKWETXGU3rKBUSZAe66i8HwPClUDo5SwaaFiYZQJEHhQKOARJQOjzGNBu2S0YacT4xbFuEUxblGMWxTjFsW4RTFuUYxbFOMWxbhFMW5RjFsU4xYVYEFL10TcWSxo+ZsYZQK4q0VFs9tUC8W8gVHy0LS5AoM0tbd9OrUXMopW0IKCb2CUAjbtZaAwq9sLMovJzK7d/KiUxLhFMW5RjFsU4xbFuEUxblGMWxTjFsW4RTFuUYxbFOMWpX3PrAVh4nb6Dha0rwiltxc2V1xVtxy7x47Wox51Si6nnpFfy0cU3K4bu6A13cUj2mOFNr7yYmXuX5W9Yuwefh16NBajTlFPeECl6qkFr9RST/J8aOL56imVuRL0eGCYsUIbX7mGhfhxVxeg0IyMO5p2mWcjdyS0hVhbOxI31XFrH5WJY9yiGLcoxi2KcYti3KIYtyjGLYpxi2Lcohi3KMYtinGLKuNX07Vm7B6FDBT2DMStbS9oewXaEfo79P/TMKzWzio6Qa6jVpaWslCYh1O2fCjkDMTtwjQ6GzhsH4/Awnz6nk3w8H7+4rJ6y3+r04RD9hpwRFCGIzJ43Y/BxycPqvjAQ097NgEKmQl48qaGa/cqru51/Nmt4mJighaVtphEP/CQvrVbo31UNqLjxo9KE6bzo1LDuEUxblGMWxTjFsW4RTFuUYxbFOMWxbhFMW5RjFsU4xZVxu2FIm5AbOIN9wUbcWubB9rf7Y9+4MHs9oKXV7XzK2214u7Ebrq4FSgtgv6+2rTd3VALwRMbceNLCXbzMOxakH+0cHu40RlV8A1vYbpe/PdXW0xG+L57NhYTPe4GFEzEzbU7xLhVjHt8jDvEuEOMW8W4R8a4Q4w7xLhVjHtkjDvEuEOMW8W4R8a4Q4w7xLhVhuPG71srq3jIGHGnZHsh+oZj6acXvG5OtdKHQjf+9kJ9C3ps7ENhHwrumo37uwMY1cV55fDFun0X4piRP/VPRERERERERERERDS24fr6uoG/kvNI9wNr3WNKw2SePhuc2Yv7+eFgkPQrvJeCyRwdW23/4qXV9vGkYDKvXp9YvMC237xN/PK9l4bJnL4bnNmbw9Hx4Oy9te4xpWEy54c2u59+sNk9pjRM5uKj49x8stX9/LPjfLn8aqt9PHeTOU14MicHzvbgm63uw9uLd+BcJb1i/nU3meHJZfKTubTa/fq71fbx3Fwl/evJ9vWPnxbbX7xOyWJy59fvFPx0O/b+n5M2w6QnQEREREREREQp8Aez+G2TV/5AbwAAAABJRU5ErkJggg==)\n"
   ]
  },
  {
   "cell_type": "markdown",
   "id": "d93e7f86-92c3-4ae7-8781-235699355687",
   "metadata": {},
   "source": [
    "**a)** Hvor mange klosser trengs for å lage 4. og for å lage 5. figur?"
   ]
  },
  {
   "cell_type": "code",
   "execution_count": null,
   "id": "d1ff981b-0a50-44cb-acb6-ea5bd023d911",
   "metadata": {},
   "outputs": [],
   "source": []
  },
  {
   "cell_type": "markdown",
   "id": "6bd3ebf5-8979-4686-b16d-f0e8bec6a3d3",
   "metadata": {
    "tags": []
   },
   "source": [
    "**b)** Bestem et uttrykk for antall klosser i figur 𝐹 uttrykt ved 𝑛."
   ]
  },
  {
   "cell_type": "code",
   "execution_count": null,
   "id": "a5604801-c560-4a6c-88a6-0eb142f42b88",
   "metadata": {},
   "outputs": [],
   "source": []
  },
  {
   "cell_type": "markdown",
   "id": "bd77a127-17a6-409f-9489-5f804a2c4fae",
   "metadata": {},
   "source": [
    "**c)** Lag et program som skriver ut antall klosser i de 15 første figurene"
   ]
  },
  {
   "cell_type": "code",
   "execution_count": null,
   "id": "19df2e5f-8f7e-4d8f-9817-99d3ce2fc12d",
   "metadata": {},
   "outputs": [],
   "source": []
  },
  {
   "cell_type": "markdown",
   "id": "c5987c84-62db-4089-854c-7c335184e750",
   "metadata": {},
   "source": [
    "**d)** Hva blir summen av antall klosser i de 15 første figurene?"
   ]
  },
  {
   "cell_type": "code",
   "execution_count": null,
   "id": "4770a27f-ad97-4f99-bb9f-626a2a07141b",
   "metadata": {},
   "outputs": [],
   "source": []
  },
  {
   "cell_type": "markdown",
   "id": "6c56538f-028b-4bbc-823d-e5bb84e1a28a",
   "metadata": {
    "tags": []
   },
   "source": [
    "## Oppgave 8\n",
    "\n",
    "![](https://www.matematikksenteret.no/sites/default/files/media/bilder/Undervisningsopplegg/Kvikkbilde.figurtall.png)"
   ]
  },
  {
   "cell_type": "markdown",
   "id": "21dd0e60-fd23-4f96-8526-e2c69656b4cc",
   "metadata": {},
   "source": [
    "**a)** Hvor mange klosser trengs for å lage 4. og for å lage 5. figur?"
   ]
  },
  {
   "cell_type": "code",
   "execution_count": null,
   "id": "347b67c4-a4bb-4d66-a68c-6b09e01485b7",
   "metadata": {},
   "outputs": [],
   "source": []
  },
  {
   "cell_type": "markdown",
   "id": "c8f47a36-65b8-43b1-83a3-05ff00c17c38",
   "metadata": {
    "tags": []
   },
   "source": [
    "**b)** Bestem et uttrykk for antall klosser i figur 𝐹 uttrykt ved 𝑛."
   ]
  },
  {
   "cell_type": "code",
   "execution_count": null,
   "id": "482ece91-a2b2-48a8-913b-5d60661acbf6",
   "metadata": {},
   "outputs": [],
   "source": []
  },
  {
   "cell_type": "markdown",
   "id": "090993b6-26bc-431c-bcdf-963867de0a43",
   "metadata": {},
   "source": [
    "**c)** Lag et program som skriver ut antall klosser i de 7 første figurene"
   ]
  },
  {
   "cell_type": "code",
   "execution_count": null,
   "id": "2571c575-e9f6-414c-8a89-1a6918257d8c",
   "metadata": {},
   "outputs": [],
   "source": []
  },
  {
   "cell_type": "markdown",
   "id": "593424bc-8bd9-4cb2-981b-d535be5ea7cd",
   "metadata": {},
   "source": [
    "**d)** Hva blir summen av antall klosser i de 7 første figurene?"
   ]
  },
  {
   "cell_type": "code",
   "execution_count": null,
   "id": "a018903a-a741-40d5-a9b4-ce754f747135",
   "metadata": {},
   "outputs": [],
   "source": []
  },
  {
   "cell_type": "markdown",
   "id": "30a7ace3-b3cd-45f4-8389-0c5961e3abd9",
   "metadata": {
    "tags": []
   },
   "source": [
    "## Utfordring\n",
    "\n",
    "![](https://docplayer.me/docs-images/36/17611291/images/15-0.png)"
   ]
  },
  {
   "cell_type": "markdown",
   "id": "8cf995b3-b8c9-4b8b-9a60-517d4a704eb7",
   "metadata": {},
   "source": [
    "**a)** Hvor mange klosser trengs for å lage 4. og for å lage 5. figur?"
   ]
  },
  {
   "cell_type": "code",
   "execution_count": null,
   "id": "4aa005ea-e325-4687-81fb-37646d4a5142",
   "metadata": {},
   "outputs": [],
   "source": []
  },
  {
   "cell_type": "markdown",
   "id": "9a504a61-5dd3-4b61-b16d-e48eb6622c13",
   "metadata": {
    "tags": []
   },
   "source": [
    "**b)** Bestem et uttrykk for antall klosser i figur 𝐹 uttrykt ved 𝑛."
   ]
  },
  {
   "cell_type": "code",
   "execution_count": null,
   "id": "3e3380f7-c671-42e9-9b39-df35690e2e74",
   "metadata": {},
   "outputs": [],
   "source": []
  },
  {
   "cell_type": "markdown",
   "id": "6cc1bf7f-b969-416c-a4fe-b734826f0b56",
   "metadata": {},
   "source": [
    "**c)** Lag et program som skriver ut antall klosser i de 20 første figurene"
   ]
  },
  {
   "cell_type": "code",
   "execution_count": null,
   "id": "37192ffb-7092-40b2-b035-deb3eff386d7",
   "metadata": {},
   "outputs": [],
   "source": []
  },
  {
   "cell_type": "markdown",
   "id": "58341952-2c43-4205-9ca5-db6c9c9ccae5",
   "metadata": {},
   "source": [
    "**d)** Hva blir summen av antall klosser i de 20 første figurene?"
   ]
  },
  {
   "cell_type": "code",
   "execution_count": null,
   "id": "399db945-f468-45bc-9bc0-96ca0b0d63fe",
   "metadata": {},
   "outputs": [],
   "source": []
  }
 ],
 "metadata": {
  "kernelspec": {
   "display_name": "Python 3 (ipykernel)",
   "language": "python",
   "name": "python3"
  },
  "language_info": {
   "codemirror_mode": {
    "name": "ipython",
    "version": 3
   },
   "file_extension": ".py",
   "mimetype": "text/x-python",
   "name": "python",
   "nbconvert_exporter": "python",
   "pygments_lexer": "ipython3",
   "version": "3.8.12"
  }
 },
 "nbformat": 4,
 "nbformat_minor": 5
}

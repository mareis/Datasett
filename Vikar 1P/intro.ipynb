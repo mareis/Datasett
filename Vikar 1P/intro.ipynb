{
 "cells": [
  {
   "cell_type": "markdown",
   "id": "2279867a-1f68-4d81-87ec-676ae7204739",
   "metadata": {},
   "source": [
    "# Intro til Jupyter Lab\n",
    "\n",
    "## For-løkker"
   ]
  },
  {
   "cell_type": "code",
   "execution_count": 8,
   "id": "e6a62a6f-8033-4f4d-8b1e-599fbc3f18ef",
   "metadata": {},
   "outputs": [
    {
     "name": "stdout",
     "output_type": "stream",
     "text": [
      "Kvinnedagen!\n",
      "Kvinnedagen!\n",
      "Kvinnedagen!\n",
      "Kvinnedagen!\n",
      "Kvinnedagen!\n",
      "Kvinnedagen!\n",
      "Kvinnedagen!\n",
      "Kvinnedagen!\n",
      "Kvinnedagen!\n",
      "Kvinnedagen!\n"
     ]
    }
   ],
   "source": [
    "for x in range(10):\n",
    "    print(\"Kvinnedagen!\")"
   ]
  },
  {
   "cell_type": "code",
   "execution_count": 3,
   "id": "e8f1153c-4fdd-4058-9c8e-fef2060ac594",
   "metadata": {},
   "outputs": [
    {
     "name": "stdout",
     "output_type": "stream",
     "text": [
      "1\n",
      "2\n",
      "3\n",
      "4\n",
      "5\n",
      "6\n",
      "7\n",
      "8\n",
      "9\n",
      "10\n"
     ]
    }
   ],
   "source": [
    "for n in range(1, 11):\n",
    "    print(n)"
   ]
  },
  {
   "cell_type": "code",
   "execution_count": 4,
   "id": "c9409972-53be-4064-bc6b-025457a637a6",
   "metadata": {},
   "outputs": [
    {
     "name": "stdout",
     "output_type": "stream",
     "text": [
      "2\n",
      "4\n",
      "6\n",
      "8\n",
      "10\n"
     ]
    }
   ],
   "source": [
    "for n in range(1, 6):\n",
    "    partall = 2*n\n",
    "    print(partall)"
   ]
  },
  {
   "cell_type": "code",
   "execution_count": 5,
   "id": "b59670c3-142f-4f7d-b850-7e1b3a9a5b2c",
   "metadata": {},
   "outputs": [
    {
     "name": "stdout",
     "output_type": "stream",
     "text": [
      "1\n",
      "3\n",
      "5\n",
      "7\n",
      "9\n"
     ]
    }
   ],
   "source": [
    "for n in range(0, 5):\n",
    "    oddetall = 2*n + 1\n",
    "    print(oddetall)"
   ]
  },
  {
   "cell_type": "code",
   "execution_count": 7,
   "id": "5d3b8de7-3967-4889-97d4-c62fbd96bbf3",
   "metadata": {},
   "outputs": [
    {
     "name": "stdout",
     "output_type": "stream",
     "text": [
      "1\n",
      "4\n",
      "9\n",
      "16\n",
      "25\n",
      "36\n",
      "49\n",
      "64\n",
      "81\n",
      "100\n"
     ]
    }
   ],
   "source": [
    "for n in range(1, 11):\n",
    "    kvadrattall = n**2\n",
    "    print(kvadrattall)"
   ]
  },
  {
   "cell_type": "code",
   "execution_count": 9,
   "id": "c269631a-ee24-4d9f-a599-e0f3f0826d1d",
   "metadata": {},
   "outputs": [
    {
     "name": "stdout",
     "output_type": "stream",
     "text": [
      "🌸\n"
     ]
    }
   ],
   "source": [
    "print(\"🌸\")"
   ]
  },
  {
   "cell_type": "code",
   "execution_count": 17,
   "id": "700a7036-1772-4d87-b7b3-495cec19cf32",
   "metadata": {},
   "outputs": [
    {
     "name": "stdout",
     "output_type": "stream",
     "text": [
      "\n",
      "🌸  \n",
      "🌸  🌸  \n",
      "🌸  🌸  🌸  \n",
      "🌸  🌸  🌸  🌸  \n",
      "🌸  🌸  🌸  🌸  🌸  \n",
      "🌸  🌸  🌸  🌸  \n",
      "🌸  🌸  🌸  \n",
      "🌸  🌸  \n",
      "🌸  \n"
     ]
    }
   ],
   "source": [
    "antall = 5\n",
    "for i in range(antall):\n",
    "    print(\"🌸  \"*i)\n",
    "    \n",
    "for i in range(antall):\n",
    "    print(\"🌸  \"*(antall-i))"
   ]
  },
  {
   "cell_type": "markdown",
   "id": "a61fbae5-1138-4f46-8a0a-a2727bb83a8c",
   "metadata": {},
   "source": [
    "## Summering"
   ]
  },
  {
   "cell_type": "code",
   "execution_count": 21,
   "id": "717d6367-66d6-40c8-9c67-8ae9dc5a0530",
   "metadata": {},
   "outputs": [
    {
     "name": "stdout",
     "output_type": "stream",
     "text": [
      "🧔‍♀‍ 🧔‍♀‍ \n"
     ]
    }
   ],
   "source": [
    "sum = \"\"\n",
    "sum = sum + \"🧔‍♀‍ \"\n",
    "sum = sum + \"🧔‍♀‍ \"\n",
    "print(sum)"
   ]
  },
  {
   "cell_type": "code",
   "execution_count": 26,
   "id": "c88e0dcf-a738-4cef-aac0-18e7b7f4d506",
   "metadata": {},
   "outputs": [
    {
     "name": "stdout",
     "output_type": "stream",
     "text": [
      "🧔‍♀‍ \n",
      "🧔‍♀‍  🧔‍♀‍ \n",
      "🧔‍♀‍  🧔‍♀‍  🧔‍♀‍ \n",
      "🧔‍♀‍  🧔‍♀‍  🧔‍♀‍  🧔‍♀‍ \n",
      "🧔‍♀‍  🧔‍♀‍  🧔‍♀‍  🧔‍♀‍  🧔‍♀‍ \n",
      "🧔‍♀‍  🧔‍♀‍  🧔‍♀‍  🧔‍♀‍  🧔‍♀‍  🧔‍♀‍ \n",
      "🧔‍♀‍  🧔‍♀‍  🧔‍♀‍  🧔‍♀‍  🧔‍♀‍  🧔‍♀‍  🧔‍♀‍ \n"
     ]
    }
   ],
   "source": [
    "sum = \"\"\n",
    "\n",
    "for i in range(7):\n",
    "    sum = sum + \"🧔‍♀‍ \"\n",
    "    print(sum)"
   ]
  },
  {
   "cell_type": "markdown",
   "id": "07ee0786-4b6a-4609-af62-30bdf5b529c8",
   "metadata": {},
   "source": [
    "## Summering av partall"
   ]
  },
  {
   "cell_type": "code",
   "execution_count": 37,
   "id": "a6e5a1ad-fa12-41ea-924f-e56e59e3dbf5",
   "metadata": {},
   "outputs": [
    {
     "name": "stdout",
     "output_type": "stream",
     "text": [
      "2\n",
      "4\n",
      "6\n",
      "8\n",
      "10\n",
      "SUM: 30\n"
     ]
    }
   ],
   "source": [
    "sum = 0\n",
    "for n in range(1, 6):\n",
    "    partall = 2*n\n",
    "    print(partall)\n",
    "    sum = sum + partall\n",
    "\n",
    "print(\"SUM:\", sum)\n",
    "    "
   ]
  },
  {
   "cell_type": "code",
   "execution_count": 38,
   "id": "6b94b398-9f01-4a38-979c-3ef659020736",
   "metadata": {},
   "outputs": [
    {
     "name": "stdout",
     "output_type": "stream",
     "text": [
      "9455\n"
     ]
    }
   ],
   "source": [
    "sum = 0\n",
    "for n in range(1, 31):\n",
    "    kvadrattall = n**2\n",
    "    sum += kvadrattall\n",
    "    \n",
    "print(sum)"
   ]
  },
  {
   "cell_type": "code",
   "execution_count": null,
   "id": "ea25b93e-0104-49c9-b97e-0da21f2b342e",
   "metadata": {},
   "outputs": [],
   "source": []
  }
 ],
 "metadata": {
  "kernelspec": {
   "display_name": "Python 3 (ipykernel)",
   "language": "python",
   "name": "python3"
  },
  "language_info": {
   "codemirror_mode": {
    "name": "ipython",
    "version": 3
   },
   "file_extension": ".py",
   "mimetype": "text/x-python",
   "name": "python",
   "nbconvert_exporter": "python",
   "pygments_lexer": "ipython3",
   "version": "3.8.12"
  }
 },
 "nbformat": 4,
 "nbformat_minor": 5
}
